{
 "cells": [
  {
   "cell_type": "code",
   "execution_count": null,
   "metadata": {},
   "outputs": [],
   "source": []
  },
  {
   "cell_type": "code",
   "execution_count": 21,
   "metadata": {},
   "outputs": [],
   "source": [
    "class foo():\n",
    "    def __init__(self, testFn=None):\n",
    "        if testFn is not None:\n",
    "            self.testing = testFn\n",
    "    \n",
    "    def testing(self):\n",
    "        print('default')"
   ]
  },
  {
   "cell_type": "code",
   "execution_count": 22,
   "metadata": {},
   "outputs": [],
   "source": [
    "def t2():\n",
    "    print('modified')"
   ]
  },
  {
   "cell_type": "code",
   "execution_count": 23,
   "metadata": {},
   "outputs": [
    {
     "name": "stdout",
     "output_type": "stream",
     "text": [
      "default\n"
     ]
    }
   ],
   "source": [
    "f1 = foo()\n",
    "f1.testing()"
   ]
  },
  {
   "cell_type": "code",
   "execution_count": 24,
   "metadata": {},
   "outputs": [
    {
     "name": "stdout",
     "output_type": "stream",
     "text": [
      "modified\n"
     ]
    }
   ],
   "source": [
    "f2 = foo(t2)\n",
    "f2.testing()"
   ]
  },
  {
   "cell_type": "markdown",
   "metadata": {},
   "source": [
    "**Initialization agents**\n",
    "two options if player selected as a detective, either play for all 5 players or play for only one of the 5 detectives.\n",
    "\n",
    "**Detective gameplay**\n",
    "Collaboration between different agents during evaluation function, so essentially the detective is simultaneously playing for all agents together. "
   ]
  },
  {
   "cell_type": "code",
   "execution_count": null,
   "metadata": {},
   "outputs": [],
   "source": [
    "# initialization\n",
    "create_board():\n",
    "    #inputs\n",
    "    file_name_1 = pixel to mapping\n",
    "    file_name_2 = node_to_node_graph # alo contains transportation information\n",
    "    \n",
    "    # Output - adjacency graph - immutable\n",
    "    # for every node, the udnerlying structure is such that it will have 4 adjacency lists, corresponding to each mode of transport.\n",
    "    # \n",
    "\n",
    "class Board(): # board is basically the game state\n",
    "    def __init__(self, level, no_of_human_players, role_of_human_players):\n",
    "        # levels will have options - every number corresponding to a default pre-defined \n",
    "        # agents or a custom in which case it will take a string defining the agent type for thief and all detectives\n",
    "        self.board = creat_board(file1, file2)\n",
    "        self.total_nodes\n",
    "        self.totale_edges\n",
    "        \n",
    "        self.initialize_agents = #initialize all agents. initially single player, default levels.\n",
    "        # for keyboard agents as detective, \n",
    "        self.get_start_positions = # elect a starting spot for all players.\n",
    "        self.players = ['thief', 1,2,3,4] \n",
    "        \n",
    "        self.state = {}\n",
    "    \n",
    "    def play():\n",
    "        for player in self.players:\n",
    "            play_turn(player)\n",
    "            \n",
    "    \n",
    "    def play_turn(player):\n",
    "        if player == 'thief':\n",
    "            action = player.get_action(self.state)\n",
    "            \n",
    "        elif state.turns in [3,8,13,18]:\n",
    "            # not needed if mask_of_state i defined smartly\n",
    "            action = player.get_action(self.state)\n",
    "            state.update(action)\n",
    "        else:\n",
    "            masked_state = mask_of_state()\n",
    "            action = player.get_action(masked_state)\n",
    "            state.update(action)\n",
    "    return\n",
    "     \n",
    "    def update(action):\n",
    "#         takes action as input and updates the state\n",
    "#         returns nothing\n",
    "        state[players] += 1 # updating which player is playing right now\n",
    "    \n",
    "    return \n",
    "    \n",
    "    def mask_of_state():\n",
    "        returns the state by hiding the thief position\n",
    "    \n",
    "    def undo():\n",
    "        last_state = self.history.pop()\n",
    "        #if thief position is revealed then undo not possible\n",
    "        last_state\n",
    "        \n",
    "        \n",
    "    "
   ]
  },
  {
   "cell_type": "markdown",
   "metadata": {},
   "source": [
    "**Undo Specific notes**\n",
    "Since an educational tool perepctive, we will keep undo simple and a player can do multiple undos for debugging purposes. It will two option, undo a single player turn or the entire turn for all player. To retrict use of undo to keyboard use only, undo will be a sub-function of update and will be called internally by the update function based on keyboard input only.\n",
    "\n",
    "For actual game various scnearios to be considered, cannot undo after a thief has revealed the position if you were the 5th player in previous turn, "
   ]
  },
  {
   "cell_type": "code",
   "execution_count": null,
   "metadata": {},
   "outputs": [],
   "source": [
    "# KeyBoard agent\n",
    "get_action():\n",
    "    move = (number, mode of transport)\n",
    "    \n",
    "    if game.islegal(move):\n",
    "        return action\n",
    "    \n",
    "    \n",
    "    \n",
    "    "
   ]
  }
 ],
 "metadata": {
  "kernelspec": {
   "display_name": "Python 3",
   "language": "python",
   "name": "python3"
  },
  "language_info": {
   "codemirror_mode": {
    "name": "ipython",
    "version": 3
   },
   "file_extension": ".py",
   "mimetype": "text/x-python",
   "name": "python",
   "nbconvert_exporter": "python",
   "pygments_lexer": "ipython3",
   "version": "3.6.4"
  }
 },
 "nbformat": 4,
 "nbformat_minor": 2
}
